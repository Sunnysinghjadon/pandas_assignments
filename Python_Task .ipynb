{
 "cells": [
  {
   "cell_type": "markdown",
   "id": "e8997c8e-cf6b-4a26-92db-bd94d87c43a7",
   "metadata": {},
   "source": [
    "# ANS : 1"
   ]
  },
  {
   "cell_type": "code",
   "execution_count": 6,
   "id": "b93c3cd1-0eea-437c-9177-33192be12a5e",
   "metadata": {},
   "outputs": [
    {
     "name": "stdin",
     "output_type": "stream",
     "text": [
      "Enter the percentage:  96\n"
     ]
    },
    {
     "name": "stdout",
     "output_type": "stream",
     "text": [
      "Grade: A\n"
     ]
    }
   ],
   "source": [
    "percentage = float(input(\"Enter the percentage: \"))\n",
    "\n",
    "if percentage >= 90:\n",
    "    grade = \"A\"\n",
    "elif percentage > 80 and percentage <= 90:\n",
    "    grade = \"B\"\n",
    "elif percentage >= 60 and percentage <= 80:\n",
    "    grade = \"C\"\n",
    "else:\n",
    "    grade = \"D\"\n",
    "\n",
    "print(\"Grade:\", grade)\n"
   ]
  },
  {
   "cell_type": "markdown",
   "id": "924ddf20-486a-4c50-9f3d-419b4aba1b75",
   "metadata": {},
   "source": [
    "# ANS : 2"
   ]
  },
  {
   "cell_type": "code",
   "execution_count": 9,
   "id": "9208d360-2941-42b6-aba8-2f33a8064943",
   "metadata": {},
   "outputs": [
    {
     "name": "stdin",
     "output_type": "stream",
     "text": [
      "Enter the cost price of the bike (in Rs):  75000\n"
     ]
    },
    {
     "name": "stdout",
     "output_type": "stream",
     "text": [
      "Road Tax to be paid: Rs 7500.0\n"
     ]
    }
   ],
   "source": [
    "cost_price = float(input(\"Enter the cost price of the bike (in Rs): \"))\n",
    "\n",
    "if cost_price > 100000:\n",
    "    tax_percentage = 15\n",
    "    road_tax = cost_price * (tax_percentage / 100)\n",
    "elif cost_price > 50000 and cost_price <= 100000:\n",
    "    tax_percentage = 10\n",
    "    road_tax = cost_price * (tax_percentage / 100)\n",
    "elif cost_price <= 50000:\n",
    "    tax_percentage = 5\n",
    "    road_tax = cost_price * (tax_percentage / 100)\n",
    "else:\n",
    "    road_tax = 0\n",
    "\n",
    "print(\"Road Tax to be paid: Rs\", road_tax)\n"
   ]
  },
  {
   "cell_type": "markdown",
   "id": "f619e50a-6784-4ae8-974d-718ac4691fa5",
   "metadata": {},
   "source": [
    "# ANS : 3"
   ]
  },
  {
   "cell_type": "code",
   "execution_count": 12,
   "id": "2cc8d8fb-6c39-411c-8a2e-38603f246723",
   "metadata": {},
   "outputs": [
    {
     "name": "stdin",
     "output_type": "stream",
     "text": [
      "Enter the name of the city:  jaipur \n"
     ]
    },
    {
     "name": "stdout",
     "output_type": "stream",
     "text": [
      "Monument information not available for Jaipur \n"
     ]
    }
   ],
   "source": [
    "city_monuments = {\n",
    "    \"Delhi\": \"Red Fort\",\n",
    "    \"Agra\" : \"Taj Mahal\",\n",
    "    \"jaipur\": \"Jal Mahal\"\n",
    "    \n",
    "}\n",
    "\n",
    "city = input(\"Enter the name of the city: \").lower()\n",
    "\n",
    "if city in city_monuments:\n",
    "    monument = city_monuments[city]\n",
    "    print(\"Monument(s) in\", city.capitalize(), \":\", monument)\n",
    "else:\n",
    "    print(\"Monument information not available for\", city.capitalize())\n"
   ]
  },
  {
   "cell_type": "markdown",
   "id": "dd011fb8-6114-409a-9a77-1c6cf229777a",
   "metadata": {},
   "source": [
    "# ANS : 4"
   ]
  },
  {
   "cell_type": "code",
   "execution_count": 13,
   "id": "51346739-eeb8-4932-9539-a7bfa79a2aec",
   "metadata": {},
   "outputs": [
    {
     "name": "stdin",
     "output_type": "stream",
     "text": [
      "Enter a number:  33\n"
     ]
    },
    {
     "name": "stdout",
     "output_type": "stream",
     "text": [
      "The number can be divided by 3 2 times before it is less than or equal to 10.\n"
     ]
    }
   ],
   "source": [
    "number = int(input(\"Enter a number: \"))\n",
    "count = 0\n",
    "\n",
    "while number > 10:\n",
    "    number /= 3\n",
    "    count += 1\n",
    "\n",
    "print(\"The number can be divided by 3\", count, \"times before it is less than or equal to 10.\")\n"
   ]
  },
  {
   "cell_type": "markdown",
   "id": "7cadd14a-e1af-498d-acfd-0e8a546f29c2",
   "metadata": {},
   "source": [
    "# ANS : 5 "
   ]
  },
  {
   "cell_type": "code",
   "execution_count": null,
   "id": "e52a132f-d110-4222-8f33-f9993547e3ab",
   "metadata": {},
   "outputs": [],
   "source": [
    "The while loop in Python is used to repeatedly execute a block of code as long as a specified condition remains true. It is useful when you want to repeat a certain task until a specific condition is met. \n",
    "EX : "
   ]
  },
  {
   "cell_type": "code",
   "execution_count": 1,
   "id": "1e56a8c8-73d1-40a8-86dc-db9817466ed1",
   "metadata": {},
   "outputs": [
    {
     "name": "stdout",
     "output_type": "stream",
     "text": [
      "1\n",
      "2\n",
      "3\n",
      "4\n",
      "5\n"
     ]
    }
   ],
   "source": [
    "number = 1\n",
    "\n",
    "while number <= 5:\n",
    "    print(number)\n",
    "    number += 1\n"
   ]
  },
  {
   "cell_type": "code",
   "execution_count": null,
   "id": "a8ec7e4d-3a41-480f-8f67-77a6e1540841",
   "metadata": {},
   "outputs": [],
   "source": [
    "The loop executes as follows:\n",
    "\n",
    "1)In the first iteration, number is 1, and it satisfies the condition. It prints 1 and increments number to 2.\n",
    "2)In the second iteration, number is 2, and it satisfies the condition. It prints 2 and increments number to 3.\n",
    "3)This process continues until number becomes 6. At this point, number is no longer less than or equal to 5, so the condition evaluates to False, and the loop terminates."
   ]
  },
  {
   "cell_type": "markdown",
   "id": "ffc31d57-8164-468b-91ca-ba970911dfbd",
   "metadata": {},
   "source": [
    "# ANS : 6"
   ]
  },
  {
   "cell_type": "code",
   "execution_count": 1,
   "id": "565fddea-0ea8-4831-979a-b61e87e60249",
   "metadata": {},
   "outputs": [
    {
     "name": "stdout",
     "output_type": "stream",
     "text": [
      "333\n",
      "3  \n",
      "3  \n",
      "3  \n",
      "333\n"
     ]
    }
   ],
   "source": [
    "# Pattern 1 : \n",
    "\n",
    "row = 1\n",
    "\n",
    "while row <= 5:\n",
    "    col = 1\n",
    "\n",
    "    while col <= 3:\n",
    "        if (row == 1 or row == 5) or (col == 1 and row in [2, 3, 4]):\n",
    "            print(\"3\", end=\"\")\n",
    "        else:\n",
    "            print(\" \", end=\"\")\n",
    "        \n",
    "        col += 1\n",
    "    \n",
    "    print()\n",
    "    row += 1\n"
   ]
  },
  {
   "cell_type": "code",
   "execution_count": 2,
   "id": "73f53df3-71b5-4fce-922e-c43a1a3b06a4",
   "metadata": {},
   "outputs": [
    {
     "name": "stdout",
     "output_type": "stream",
     "text": [
      "333\n",
      "  3\n",
      "3 3\n",
      "  3\n",
      "333\n"
     ]
    }
   ],
   "source": [
    "# Pattern 2 :\n",
    "\n",
    "row = 1\n",
    "\n",
    "while row <= 5:\n",
    "    col = 1\n",
    "\n",
    "    while col <= 3:\n",
    "        if (col == 3) or (row == 1 and col in [1, 2]) or (row == 3 and col == 1) or (row == 5 and col in [1, 2]):\n",
    "            print(\"3\", end=\"\")\n",
    "        else:\n",
    "            print(\" \", end=\"\")\n",
    "        \n",
    "        col += 1\n",
    "    \n",
    "    print()\n",
    "    row += 1\n"
   ]
  },
  {
   "cell_type": "code",
   "execution_count": 3,
   "id": "d6f95832-7674-4483-8cc6-52fd8d0e55db",
   "metadata": {},
   "outputs": [
    {
     "name": "stdout",
     "output_type": "stream",
     "text": [
      "333\n",
      "  3\n",
      "333\n",
      "  3\n",
      "333\n"
     ]
    }
   ],
   "source": [
    "# Pattern 3 :\n",
    "\n",
    "row = 1\n",
    "\n",
    "while row <= 5:\n",
    "    col = 1\n",
    "\n",
    "    while col <= 3:\n",
    "        if (col == 3) or (row == 1 and col in [1, 2]) or (row == 3 and col in [1, 2]) or (row == 5 and col in [1, 2]):\n",
    "            print(\"3\", end=\"\")\n",
    "        else:\n",
    "            print(\" \", end=\"\")\n",
    "        \n",
    "        col += 1\n",
    "    \n",
    "    print()\n",
    "    row += 1\n"
   ]
  },
  {
   "cell_type": "markdown",
   "id": "5e6611c7-7736-47f8-8922-9089ce26a18f",
   "metadata": {},
   "source": [
    "# ANS : 7"
   ]
  },
  {
   "cell_type": "code",
   "execution_count": null,
   "id": "19cd8c9e-2602-4556-834f-096ad1c78fdc",
   "metadata": {},
   "outputs": [],
   "source": []
  }
 ],
 "metadata": {
  "kernelspec": {
   "display_name": "Python 3 (ipykernel)",
   "language": "python",
   "name": "python3"
  },
  "language_info": {
   "codemirror_mode": {
    "name": "ipython",
    "version": 3
   },
   "file_extension": ".py",
   "mimetype": "text/x-python",
   "name": "python",
   "nbconvert_exporter": "python",
   "pygments_lexer": "ipython3",
   "version": "3.10.8"
  }
 },
 "nbformat": 4,
 "nbformat_minor": 5
}
